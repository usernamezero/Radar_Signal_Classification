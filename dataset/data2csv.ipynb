{
 "cells": [
  {
   "cell_type": "code",
   "metadata": {
    "collapsed": true,
    "ExecuteTime": {
     "end_time": "2024-05-07T02:52:14.742192Z",
     "start_time": "2024-05-07T02:52:11.892706Z"
    }
   },
   "source": [
    "import pandas as pd\n",
    "import numpy as np\n",
    "import scipy.io as io\n",
    "import os\n",
    "import csv\n"
   ],
   "outputs": [],
   "execution_count": 1
  },
  {
   "metadata": {
    "ExecuteTime": {
     "end_time": "2024-05-07T02:55:25.524548Z",
     "start_time": "2024-05-07T02:55:24.979674Z"
    }
   },
   "cell_type": "code",
   "source": [
    "import torch\n",
    "\n",
    "# 加载权重文件\n",
    "weights_path = r'E:\\new_radar\\cnn_last.pth'\n",
    "model = torch.load(weights_path)\n",
    "\n",
    "# 查看模型结构\n",
    "print(model)"
   ],
   "outputs": [
    {
     "name": "stdout",
     "output_type": "stream",
     "text": [
      "CNN(\n",
      "  (conv1): Sequential(\n",
      "    (0): Conv1d(1, 64, kernel_size=(8,), stride=(1,), bias=False)\n",
      "    (1): BatchNorm1d(64, eps=1e-05, momentum=0.1, affine=True, track_running_stats=True)\n",
      "    (2): ReLU(inplace=True)\n",
      "    (3): MaxPool1d(kernel_size=2, stride=2, padding=0, dilation=1, ceil_mode=False)\n",
      "  )\n",
      "  (conv2): Sequential(\n",
      "    (0): Conv1d(64, 128, kernel_size=(16,), stride=(1,), bias=False)\n",
      "    (1): BatchNorm1d(128, eps=1e-05, momentum=0.1, affine=True, track_running_stats=True)\n",
      "    (2): ReLU(inplace=True)\n",
      "    (3): MaxPool1d(kernel_size=2, stride=2, padding=0, dilation=1, ceil_mode=False)\n",
      "  )\n",
      "  (conv3): Sequential(\n",
      "    (0): Conv1d(128, 256, kernel_size=(32,), stride=(1,), bias=False)\n",
      "    (1): BatchNorm1d(256, eps=1e-05, momentum=0.1, affine=True, track_running_stats=True)\n",
      "    (2): ReLU(inplace=True)\n",
      "    (3): MaxPool1d(kernel_size=2, stride=2, padding=0, dilation=1, ceil_mode=False)\n",
      "  )\n",
      "  (conv4): Sequential(\n",
      "    (0): Conv1d(256, 512, kernel_size=(64,), stride=(1,), bias=False)\n",
      "    (1): BatchNorm1d(512, eps=1e-05, momentum=0.1, affine=True, track_running_stats=True)\n",
      "    (2): ReLU(inplace=True)\n",
      "    (3): MaxPool1d(kernel_size=2, stride=2, padding=0, dilation=1, ceil_mode=False)\n",
      "  )\n",
      "  (avgpool): AdaptiveAvgPool1d(output_size=1)\n",
      "  (out): Linear(in_features=512, out_features=3, bias=True)\n",
      ")\n"
     ]
    }
   ],
   "execution_count": 3
  },
  {
   "metadata": {
    "ExecuteTime": {
     "end_time": "2024-05-07T02:57:01.368502Z",
     "start_time": "2024-05-07T02:57:01.304490Z"
    }
   },
   "cell_type": "code",
   "source": [
    "signal = np.load(\"labels.npy\")\n",
    "print(signal.shape)\n",
    "print(signal.dtype)\n",
    "# for index, row in enumerate(signal):\n",
    "#     print(f\"行索引：{index}, 行数据：{row}\")\n",
    "    "
   ],
   "outputs": [
    {
     "name": "stdout",
     "output_type": "stream",
     "text": [
      "(36000,)\n",
      "float64\n"
     ]
    }
   ],
   "execution_count": 7
  },
  {
   "cell_type": "code",
   "execution_count": 3,
   "outputs": [],
   "source": [
    "path = r\"X:\\pystudy\\radar\\SIGNAL\\data_signal\""
   ],
   "metadata": {
    "collapsed": false
   }
  },
  {
   "cell_type": "code",
   "execution_count": 4,
   "outputs": [
    {
     "data": {
      "text/plain": "['A_10_1000dB.mat',\n 'A_10_1001dB.mat',\n 'A_10_1002dB.mat',\n 'A_10_1003dB.mat',\n 'A_10_1004dB.mat',\n 'A_10_1005dB.mat',\n 'A_10_1006dB.mat',\n 'A_10_1007dB.mat',\n 'A_10_1008dB.mat',\n 'A_10_1009dB.mat',\n 'A_10_100dB.mat',\n 'A_10_1010dB.mat',\n 'A_10_1011dB.mat',\n 'A_10_1012dB.mat',\n 'A_10_1013dB.mat',\n 'A_10_1014dB.mat',\n 'A_10_1015dB.mat',\n 'A_10_1016dB.mat',\n 'A_10_1017dB.mat',\n 'A_10_1018dB.mat',\n 'A_10_1019dB.mat',\n 'A_10_101dB.mat',\n 'A_10_1020dB.mat',\n 'A_10_1021dB.mat',\n 'A_10_1022dB.mat',\n 'A_10_1023dB.mat',\n 'A_10_1024dB.mat',\n 'A_10_1025dB.mat',\n 'A_10_1026dB.mat',\n 'A_10_1027dB.mat',\n 'A_10_1028dB.mat',\n 'A_10_1029dB.mat',\n 'A_10_102dB.mat',\n 'A_10_1030dB.mat',\n 'A_10_1031dB.mat',\n 'A_10_1032dB.mat',\n 'A_10_1033dB.mat',\n 'A_10_1034dB.mat',\n 'A_10_1035dB.mat',\n 'A_10_1036dB.mat',\n 'A_10_1037dB.mat',\n 'A_10_1038dB.mat',\n 'A_10_1039dB.mat',\n 'A_10_103dB.mat',\n 'A_10_1040dB.mat',\n 'A_10_1041dB.mat',\n 'A_10_1042dB.mat',\n 'A_10_1043dB.mat',\n 'A_10_1044dB.mat',\n 'A_10_1045dB.mat',\n 'A_10_1046dB.mat',\n 'A_10_1047dB.mat',\n 'A_10_1048dB.mat',\n 'A_10_1049dB.mat',\n 'A_10_104dB.mat',\n 'A_10_1050dB.mat',\n 'A_10_1051dB.mat',\n 'A_10_1052dB.mat',\n 'A_10_1053dB.mat',\n 'A_10_1054dB.mat',\n 'A_10_1055dB.mat',\n 'A_10_1056dB.mat',\n 'A_10_1057dB.mat',\n 'A_10_1058dB.mat',\n 'A_10_1059dB.mat',\n 'A_10_105dB.mat',\n 'A_10_1060dB.mat',\n 'A_10_1061dB.mat',\n 'A_10_1062dB.mat',\n 'A_10_1063dB.mat',\n 'A_10_1064dB.mat',\n 'A_10_1065dB.mat',\n 'A_10_1066dB.mat',\n 'A_10_1067dB.mat',\n 'A_10_1068dB.mat',\n 'A_10_1069dB.mat',\n 'A_10_106dB.mat',\n 'A_10_1070dB.mat',\n 'A_10_1071dB.mat',\n 'A_10_1072dB.mat',\n 'A_10_1073dB.mat',\n 'A_10_1074dB.mat',\n 'A_10_1075dB.mat',\n 'A_10_1076dB.mat',\n 'A_10_1077dB.mat',\n 'A_10_1078dB.mat',\n 'A_10_1079dB.mat',\n 'A_10_107dB.mat',\n 'A_10_1080dB.mat',\n 'A_10_1081dB.mat',\n 'A_10_1082dB.mat',\n 'A_10_1083dB.mat',\n 'A_10_1084dB.mat',\n 'A_10_1085dB.mat',\n 'A_10_1086dB.mat',\n 'A_10_1087dB.mat',\n 'A_10_1088dB.mat',\n 'A_10_1089dB.mat',\n 'A_10_108dB.mat',\n 'A_10_1090dB.mat',\n 'A_10_1091dB.mat',\n 'A_10_1092dB.mat',\n 'A_10_1093dB.mat',\n 'A_10_1094dB.mat',\n 'A_10_1095dB.mat',\n 'A_10_1096dB.mat',\n 'A_10_1097dB.mat',\n 'A_10_1098dB.mat',\n 'A_10_1099dB.mat',\n 'A_10_109dB.mat',\n 'A_10_10dB.mat',\n 'A_10_1100dB.mat',\n 'A_10_1101dB.mat',\n 'A_10_1102dB.mat',\n 'A_10_1103dB.mat',\n 'A_10_1104dB.mat',\n 'A_10_1105dB.mat',\n 'A_10_1106dB.mat',\n 'A_10_1107dB.mat',\n 'A_10_1108dB.mat',\n 'A_10_1109dB.mat',\n 'A_10_110dB.mat',\n 'A_10_1110dB.mat',\n 'A_10_1111dB.mat',\n 'A_10_1112dB.mat',\n 'A_10_1113dB.mat',\n 'A_10_1114dB.mat',\n 'A_10_1115dB.mat',\n 'A_10_1116dB.mat',\n 'A_10_1117dB.mat',\n 'A_10_1118dB.mat',\n 'A_10_1119dB.mat',\n 'A_10_111dB.mat',\n 'A_10_1120dB.mat',\n 'A_10_1121dB.mat',\n 'A_10_1122dB.mat',\n 'A_10_1123dB.mat',\n 'A_10_1124dB.mat',\n 'A_10_1125dB.mat',\n 'A_10_1126dB.mat',\n 'A_10_1127dB.mat',\n 'A_10_1128dB.mat',\n 'A_10_1129dB.mat',\n 'A_10_112dB.mat',\n 'A_10_1130dB.mat',\n 'A_10_1131dB.mat',\n 'A_10_1132dB.mat',\n 'A_10_1133dB.mat',\n 'A_10_1134dB.mat',\n 'A_10_1135dB.mat',\n 'A_10_1136dB.mat',\n 'A_10_1137dB.mat',\n 'A_10_1138dB.mat',\n 'A_10_1139dB.mat',\n 'A_10_113dB.mat',\n 'A_10_1140dB.mat',\n 'A_10_1141dB.mat',\n 'A_10_1142dB.mat',\n 'A_10_1143dB.mat',\n 'A_10_1144dB.mat',\n 'A_10_1145dB.mat',\n 'A_10_1146dB.mat',\n 'A_10_1147dB.mat',\n 'A_10_1148dB.mat',\n 'A_10_1149dB.mat',\n 'A_10_114dB.mat',\n 'A_10_1150dB.mat',\n 'A_10_1151dB.mat',\n 'A_10_1152dB.mat',\n 'A_10_1153dB.mat',\n 'A_10_1154dB.mat',\n 'A_10_1155dB.mat',\n 'A_10_1156dB.mat',\n 'A_10_1157dB.mat',\n 'A_10_1158dB.mat',\n 'A_10_1159dB.mat',\n 'A_10_115dB.mat',\n 'A_10_1160dB.mat',\n 'A_10_1161dB.mat',\n 'A_10_1162dB.mat',\n 'A_10_1163dB.mat',\n 'A_10_1164dB.mat',\n 'A_10_1165dB.mat',\n 'A_10_1166dB.mat',\n 'A_10_1167dB.mat',\n 'A_10_1168dB.mat',\n 'A_10_1169dB.mat',\n 'A_10_116dB.mat',\n 'A_10_1170dB.mat',\n 'A_10_1171dB.mat',\n 'A_10_1172dB.mat',\n 'A_10_1173dB.mat',\n 'A_10_1174dB.mat',\n 'A_10_1175dB.mat',\n 'A_10_1176dB.mat',\n 'A_10_1177dB.mat',\n 'A_10_1178dB.mat',\n 'A_10_1179dB.mat',\n 'A_10_117dB.mat',\n 'A_10_1180dB.mat',\n 'A_10_1181dB.mat',\n 'A_10_1182dB.mat',\n 'A_10_1183dB.mat',\n 'A_10_1184dB.mat',\n 'A_10_1185dB.mat',\n 'A_10_1186dB.mat',\n 'A_10_1187dB.mat',\n 'A_10_1188dB.mat',\n 'A_10_1189dB.mat',\n 'A_10_118dB.mat',\n 'A_10_1190dB.mat',\n 'A_10_1191dB.mat',\n 'A_10_1192dB.mat',\n 'A_10_1193dB.mat',\n 'A_10_1194dB.mat',\n 'A_10_1195dB.mat',\n 'A_10_1196dB.mat',\n 'A_10_1197dB.mat',\n 'A_10_1198dB.mat',\n 'A_10_1199dB.mat',\n 'A_10_119dB.mat',\n 'A_10_11dB.mat',\n 'A_10_1200dB.mat',\n 'A_10_1201dB.mat',\n 'A_10_1202dB.mat',\n 'A_10_1203dB.mat',\n 'A_10_1204dB.mat',\n 'A_10_1205dB.mat',\n 'A_10_1206dB.mat',\n 'A_10_1207dB.mat',\n 'A_10_1208dB.mat',\n 'A_10_1209dB.mat',\n 'A_10_120dB.mat',\n 'A_10_1210dB.mat',\n 'A_10_1211dB.mat',\n 'A_10_1212dB.mat',\n 'A_10_1213dB.mat',\n 'A_10_1214dB.mat',\n 'A_10_1215dB.mat',\n 'A_10_1216dB.mat',\n 'A_10_1217dB.mat',\n 'A_10_1218dB.mat',\n 'A_10_1219dB.mat',\n 'A_10_121dB.mat',\n 'A_10_1220dB.mat',\n 'A_10_1221dB.mat',\n 'A_10_1222dB.mat',\n 'A_10_1223dB.mat',\n 'A_10_1224dB.mat',\n 'A_10_1225dB.mat',\n 'A_10_1226dB.mat',\n 'A_10_1227dB.mat',\n 'A_10_1228dB.mat',\n 'A_10_1229dB.mat',\n 'A_10_122dB.mat',\n 'A_10_1230dB.mat',\n 'A_10_1231dB.mat',\n 'A_10_1232dB.mat',\n 'A_10_1233dB.mat',\n 'A_10_1234dB.mat',\n 'A_10_1235dB.mat',\n 'A_10_1236dB.mat',\n 'A_10_1237dB.mat',\n 'A_10_1238dB.mat',\n 'A_10_1239dB.mat',\n 'A_10_123dB.mat',\n 'A_10_1240dB.mat',\n 'A_10_1241dB.mat',\n 'A_10_1242dB.mat',\n 'A_10_1243dB.mat',\n 'A_10_1244dB.mat',\n 'A_10_1245dB.mat',\n 'A_10_1246dB.mat',\n 'A_10_1247dB.mat',\n 'A_10_1248dB.mat',\n 'A_10_1249dB.mat',\n 'A_10_124dB.mat',\n 'A_10_1250dB.mat',\n 'A_10_1251dB.mat',\n 'A_10_1252dB.mat',\n 'A_10_1253dB.mat',\n 'A_10_1254dB.mat',\n 'A_10_1255dB.mat',\n 'A_10_1256dB.mat',\n 'A_10_1257dB.mat',\n 'A_10_1258dB.mat',\n 'A_10_1259dB.mat',\n 'A_10_125dB.mat',\n 'A_10_1260dB.mat',\n 'A_10_1261dB.mat',\n 'A_10_1262dB.mat',\n 'A_10_1263dB.mat',\n 'A_10_1264dB.mat',\n 'A_10_1265dB.mat',\n 'A_10_1266dB.mat',\n 'A_10_1267dB.mat',\n 'A_10_1268dB.mat',\n 'A_10_1269dB.mat',\n 'A_10_126dB.mat',\n 'A_10_1270dB.mat',\n 'A_10_1271dB.mat',\n 'A_10_1272dB.mat',\n 'A_10_1273dB.mat',\n 'A_10_1274dB.mat',\n 'A_10_1275dB.mat',\n 'A_10_1276dB.mat',\n 'A_10_1277dB.mat',\n 'A_10_1278dB.mat',\n 'A_10_1279dB.mat',\n 'A_10_127dB.mat',\n 'A_10_1280dB.mat',\n 'A_10_1281dB.mat',\n 'A_10_1282dB.mat',\n 'A_10_1283dB.mat',\n 'A_10_1284dB.mat',\n 'A_10_1285dB.mat',\n 'A_10_1286dB.mat',\n 'A_10_1287dB.mat',\n 'A_10_1288dB.mat',\n 'A_10_1289dB.mat',\n 'A_10_128dB.mat',\n 'A_10_1290dB.mat',\n 'A_10_1291dB.mat',\n 'A_10_1292dB.mat',\n 'A_10_1293dB.mat',\n 'A_10_1294dB.mat',\n 'A_10_1295dB.mat',\n 'A_10_1296dB.mat',\n 'A_10_1297dB.mat',\n 'A_10_1298dB.mat',\n 'A_10_1299dB.mat',\n 'A_10_129dB.mat',\n 'A_10_12dB.mat',\n 'A_10_1300dB.mat',\n 'A_10_1301dB.mat',\n 'A_10_1302dB.mat',\n 'A_10_1303dB.mat',\n 'A_10_1304dB.mat',\n 'A_10_1305dB.mat',\n 'A_10_1306dB.mat',\n 'A_10_1307dB.mat',\n 'A_10_1308dB.mat',\n 'A_10_1309dB.mat',\n 'A_10_130dB.mat',\n 'A_10_1310dB.mat',\n 'A_10_1311dB.mat',\n 'A_10_1312dB.mat',\n 'A_10_1313dB.mat',\n 'A_10_1314dB.mat',\n 'A_10_1315dB.mat',\n 'A_10_1316dB.mat',\n 'A_10_1317dB.mat',\n 'A_10_1318dB.mat',\n 'A_10_1319dB.mat',\n 'A_10_131dB.mat',\n 'A_10_1320dB.mat',\n 'A_10_1321dB.mat',\n 'A_10_1322dB.mat',\n 'A_10_1323dB.mat',\n 'A_10_1324dB.mat',\n 'A_10_1325dB.mat',\n 'A_10_1326dB.mat',\n 'A_10_1327dB.mat',\n 'A_10_1328dB.mat',\n 'A_10_1329dB.mat',\n 'A_10_132dB.mat',\n 'A_10_1330dB.mat',\n 'A_10_1331dB.mat',\n 'A_10_1332dB.mat',\n 'A_10_1333dB.mat',\n 'A_10_1334dB.mat',\n 'A_10_1335dB.mat',\n 'A_10_1336dB.mat',\n 'A_10_1337dB.mat',\n 'A_10_1338dB.mat',\n 'A_10_1339dB.mat',\n 'A_10_133dB.mat',\n 'A_10_1340dB.mat',\n 'A_10_1341dB.mat',\n 'A_10_1342dB.mat',\n 'A_10_1343dB.mat',\n 'A_10_1344dB.mat',\n 'A_10_1345dB.mat',\n 'A_10_1346dB.mat',\n 'A_10_1347dB.mat',\n 'A_10_1348dB.mat',\n 'A_10_1349dB.mat',\n 'A_10_134dB.mat',\n 'A_10_1350dB.mat',\n 'A_10_1351dB.mat',\n 'A_10_1352dB.mat',\n 'A_10_1353dB.mat',\n 'A_10_1354dB.mat',\n 'A_10_1355dB.mat',\n 'A_10_1356dB.mat',\n 'A_10_1357dB.mat',\n 'A_10_1358dB.mat',\n 'A_10_1359dB.mat',\n 'A_10_135dB.mat',\n 'A_10_1360dB.mat',\n 'A_10_1361dB.mat',\n 'A_10_1362dB.mat',\n 'A_10_1363dB.mat',\n 'A_10_1364dB.mat',\n 'A_10_1365dB.mat',\n 'A_10_1366dB.mat',\n 'A_10_1367dB.mat',\n 'A_10_1368dB.mat',\n 'A_10_1369dB.mat',\n 'A_10_136dB.mat',\n 'A_10_1370dB.mat',\n 'A_10_1371dB.mat',\n 'A_10_1372dB.mat',\n 'A_10_1373dB.mat',\n 'A_10_1374dB.mat',\n 'A_10_1375dB.mat',\n 'A_10_1376dB.mat',\n 'A_10_1377dB.mat',\n 'A_10_1378dB.mat',\n 'A_10_1379dB.mat',\n 'A_10_137dB.mat',\n 'A_10_1380dB.mat',\n 'A_10_1381dB.mat',\n 'A_10_1382dB.mat',\n 'A_10_1383dB.mat',\n 'A_10_1384dB.mat',\n 'A_10_1385dB.mat',\n 'A_10_1386dB.mat',\n 'A_10_1387dB.mat',\n 'A_10_1388dB.mat',\n 'A_10_1389dB.mat',\n 'A_10_138dB.mat',\n 'A_10_1390dB.mat',\n 'A_10_1391dB.mat',\n 'A_10_1392dB.mat',\n 'A_10_1393dB.mat',\n 'A_10_1394dB.mat',\n 'A_10_1395dB.mat',\n 'A_10_1396dB.mat',\n 'A_10_1397dB.mat',\n 'A_10_1398dB.mat',\n 'A_10_1399dB.mat',\n 'A_10_139dB.mat',\n 'A_10_13dB.mat',\n 'A_10_1400dB.mat',\n 'A_10_1401dB.mat',\n 'A_10_1402dB.mat',\n 'A_10_1403dB.mat',\n 'A_10_1404dB.mat',\n 'A_10_1405dB.mat',\n 'A_10_1406dB.mat',\n 'A_10_1407dB.mat',\n 'A_10_1408dB.mat',\n 'A_10_1409dB.mat',\n 'A_10_140dB.mat',\n 'A_10_1410dB.mat',\n 'A_10_1411dB.mat',\n 'A_10_1412dB.mat',\n 'A_10_1413dB.mat',\n 'A_10_1414dB.mat',\n 'A_10_1415dB.mat',\n 'A_10_1416dB.mat',\n 'A_10_1417dB.mat',\n 'A_10_1418dB.mat',\n 'A_10_1419dB.mat',\n 'A_10_141dB.mat',\n 'A_10_1420dB.mat',\n 'A_10_1421dB.mat',\n 'A_10_1422dB.mat',\n 'A_10_1423dB.mat',\n 'A_10_1424dB.mat',\n 'A_10_1425dB.mat',\n 'A_10_1426dB.mat',\n 'A_10_1427dB.mat',\n 'A_10_1428dB.mat',\n 'A_10_1429dB.mat',\n 'A_10_142dB.mat',\n 'A_10_1430dB.mat',\n 'A_10_1431dB.mat',\n 'A_10_1432dB.mat',\n 'A_10_1433dB.mat',\n 'A_10_1434dB.mat',\n 'A_10_1435dB.mat',\n 'A_10_1436dB.mat',\n 'A_10_1437dB.mat',\n 'A_10_1438dB.mat',\n 'A_10_1439dB.mat',\n 'A_10_143dB.mat',\n 'A_10_1440dB.mat',\n 'A_10_1441dB.mat',\n 'A_10_1442dB.mat',\n 'A_10_1443dB.mat',\n 'A_10_1444dB.mat',\n 'A_10_1445dB.mat',\n 'A_10_1446dB.mat',\n 'A_10_1447dB.mat',\n 'A_10_1448dB.mat',\n 'A_10_1449dB.mat',\n 'A_10_144dB.mat',\n 'A_10_1450dB.mat',\n 'A_10_1451dB.mat',\n 'A_10_1452dB.mat',\n 'A_10_1453dB.mat',\n 'A_10_1454dB.mat',\n 'A_10_1455dB.mat',\n 'A_10_1456dB.mat',\n 'A_10_1457dB.mat',\n 'A_10_1458dB.mat',\n 'A_10_1459dB.mat',\n 'A_10_145dB.mat',\n 'A_10_1460dB.mat',\n 'A_10_1461dB.mat',\n 'A_10_1462dB.mat',\n 'A_10_1463dB.mat',\n 'A_10_1464dB.mat',\n 'A_10_1465dB.mat',\n 'A_10_1466dB.mat',\n 'A_10_1467dB.mat',\n 'A_10_1468dB.mat',\n 'A_10_1469dB.mat',\n 'A_10_146dB.mat',\n 'A_10_1470dB.mat',\n 'A_10_1471dB.mat',\n 'A_10_1472dB.mat',\n 'A_10_1473dB.mat',\n 'A_10_1474dB.mat',\n 'A_10_1475dB.mat',\n 'A_10_1476dB.mat',\n 'A_10_1477dB.mat',\n 'A_10_1478dB.mat',\n 'A_10_1479dB.mat',\n 'A_10_147dB.mat',\n 'A_10_1480dB.mat',\n 'A_10_1481dB.mat',\n 'A_10_1482dB.mat',\n 'A_10_1483dB.mat',\n 'A_10_1484dB.mat',\n 'A_10_1485dB.mat',\n 'A_10_1486dB.mat',\n 'A_10_1487dB.mat',\n 'A_10_1488dB.mat',\n 'A_10_1489dB.mat',\n 'A_10_148dB.mat',\n 'A_10_1490dB.mat',\n 'A_10_1491dB.mat',\n 'A_10_1492dB.mat',\n 'A_10_1493dB.mat',\n 'A_10_1494dB.mat',\n 'A_10_1495dB.mat',\n 'A_10_1496dB.mat',\n 'A_10_1497dB.mat',\n 'A_10_1498dB.mat',\n 'A_10_1499dB.mat',\n 'A_10_149dB.mat',\n 'A_10_14dB.mat',\n 'A_10_1500dB.mat',\n 'A_10_1501dB.mat',\n 'A_10_1502dB.mat',\n 'A_10_1503dB.mat',\n 'A_10_1504dB.mat',\n 'A_10_1505dB.mat',\n 'A_10_1506dB.mat',\n 'A_10_1507dB.mat',\n 'A_10_1508dB.mat',\n 'A_10_1509dB.mat',\n 'A_10_150dB.mat',\n 'A_10_1510dB.mat',\n 'A_10_1511dB.mat',\n 'A_10_1512dB.mat',\n 'A_10_1513dB.mat',\n 'A_10_1514dB.mat',\n 'A_10_1515dB.mat',\n 'A_10_1516dB.mat',\n 'A_10_1517dB.mat',\n 'A_10_1518dB.mat',\n 'A_10_1519dB.mat',\n 'A_10_151dB.mat',\n 'A_10_1520dB.mat',\n 'A_10_1521dB.mat',\n 'A_10_1522dB.mat',\n 'A_10_1523dB.mat',\n 'A_10_1524dB.mat',\n 'A_10_1525dB.mat',\n 'A_10_1526dB.mat',\n 'A_10_1527dB.mat',\n 'A_10_1528dB.mat',\n 'A_10_1529dB.mat',\n 'A_10_152dB.mat',\n 'A_10_1530dB.mat',\n 'A_10_1531dB.mat',\n 'A_10_1532dB.mat',\n 'A_10_1533dB.mat',\n 'A_10_1534dB.mat',\n 'A_10_1535dB.mat',\n 'A_10_1536dB.mat',\n 'A_10_1537dB.mat',\n 'A_10_1538dB.mat',\n 'A_10_1539dB.mat',\n 'A_10_153dB.mat',\n 'A_10_1540dB.mat',\n 'A_10_1541dB.mat',\n 'A_10_1542dB.mat',\n 'A_10_1543dB.mat',\n 'A_10_1544dB.mat',\n 'A_10_1545dB.mat',\n 'A_10_1546dB.mat',\n 'A_10_1547dB.mat',\n 'A_10_1548dB.mat',\n 'A_10_1549dB.mat',\n 'A_10_154dB.mat',\n 'A_10_1550dB.mat',\n 'A_10_1551dB.mat',\n 'A_10_1552dB.mat',\n 'A_10_1553dB.mat',\n 'A_10_1554dB.mat',\n 'A_10_1555dB.mat',\n 'A_10_1556dB.mat',\n 'A_10_1557dB.mat',\n 'A_10_1558dB.mat',\n 'A_10_1559dB.mat',\n 'A_10_155dB.mat',\n 'A_10_1560dB.mat',\n 'A_10_1561dB.mat',\n 'A_10_1562dB.mat',\n 'A_10_1563dB.mat',\n 'A_10_1564dB.mat',\n 'A_10_1565dB.mat',\n 'A_10_1566dB.mat',\n 'A_10_1567dB.mat',\n 'A_10_1568dB.mat',\n 'A_10_1569dB.mat',\n 'A_10_156dB.mat',\n 'A_10_1570dB.mat',\n 'A_10_1571dB.mat',\n 'A_10_1572dB.mat',\n 'A_10_1573dB.mat',\n 'A_10_1574dB.mat',\n 'A_10_1575dB.mat',\n 'A_10_1576dB.mat',\n 'A_10_1577dB.mat',\n 'A_10_1578dB.mat',\n 'A_10_1579dB.mat',\n 'A_10_157dB.mat',\n 'A_10_1580dB.mat',\n 'A_10_1581dB.mat',\n 'A_10_1582dB.mat',\n 'A_10_1583dB.mat',\n 'A_10_1584dB.mat',\n 'A_10_1585dB.mat',\n 'A_10_1586dB.mat',\n 'A_10_1587dB.mat',\n 'A_10_1588dB.mat',\n 'A_10_1589dB.mat',\n 'A_10_158dB.mat',\n 'A_10_1590dB.mat',\n 'A_10_1591dB.mat',\n 'A_10_1592dB.mat',\n 'A_10_1593dB.mat',\n 'A_10_1594dB.mat',\n 'A_10_1595dB.mat',\n 'A_10_1596dB.mat',\n 'A_10_1597dB.mat',\n 'A_10_1598dB.mat',\n 'A_10_1599dB.mat',\n 'A_10_159dB.mat',\n 'A_10_15dB.mat',\n 'A_10_1600dB.mat',\n 'A_10_1601dB.mat',\n 'A_10_1602dB.mat',\n 'A_10_1603dB.mat',\n 'A_10_1604dB.mat',\n 'A_10_1605dB.mat',\n 'A_10_1606dB.mat',\n 'A_10_1607dB.mat',\n 'A_10_1608dB.mat',\n 'A_10_1609dB.mat',\n 'A_10_160dB.mat',\n 'A_10_1610dB.mat',\n 'A_10_1611dB.mat',\n 'A_10_1612dB.mat',\n 'A_10_1613dB.mat',\n 'A_10_1614dB.mat',\n 'A_10_1615dB.mat',\n 'A_10_1616dB.mat',\n 'A_10_1617dB.mat',\n 'A_10_1618dB.mat',\n 'A_10_1619dB.mat',\n 'A_10_161dB.mat',\n 'A_10_1620dB.mat',\n 'A_10_1621dB.mat',\n 'A_10_1622dB.mat',\n 'A_10_1623dB.mat',\n 'A_10_1624dB.mat',\n 'A_10_1625dB.mat',\n 'A_10_1626dB.mat',\n 'A_10_1627dB.mat',\n 'A_10_1628dB.mat',\n 'A_10_1629dB.mat',\n 'A_10_162dB.mat',\n 'A_10_1630dB.mat',\n 'A_10_1631dB.mat',\n 'A_10_1632dB.mat',\n 'A_10_1633dB.mat',\n 'A_10_1634dB.mat',\n 'A_10_1635dB.mat',\n 'A_10_1636dB.mat',\n 'A_10_1637dB.mat',\n 'A_10_1638dB.mat',\n 'A_10_1639dB.mat',\n 'A_10_163dB.mat',\n 'A_10_1640dB.mat',\n 'A_10_1641dB.mat',\n 'A_10_1642dB.mat',\n 'A_10_1643dB.mat',\n 'A_10_1644dB.mat',\n 'A_10_1645dB.mat',\n 'A_10_1646dB.mat',\n 'A_10_1647dB.mat',\n 'A_10_1648dB.mat',\n 'A_10_1649dB.mat',\n 'A_10_164dB.mat',\n 'A_10_1650dB.mat',\n 'A_10_1651dB.mat',\n 'A_10_1652dB.mat',\n 'A_10_1653dB.mat',\n 'A_10_1654dB.mat',\n 'A_10_1655dB.mat',\n 'A_10_1656dB.mat',\n 'A_10_1657dB.mat',\n 'A_10_1658dB.mat',\n 'A_10_1659dB.mat',\n 'A_10_165dB.mat',\n 'A_10_1660dB.mat',\n 'A_10_1661dB.mat',\n 'A_10_1662dB.mat',\n 'A_10_1663dB.mat',\n 'A_10_1664dB.mat',\n 'A_10_1665dB.mat',\n 'A_10_1666dB.mat',\n 'A_10_1667dB.mat',\n 'A_10_1668dB.mat',\n 'A_10_1669dB.mat',\n 'A_10_166dB.mat',\n 'A_10_1670dB.mat',\n 'A_10_1671dB.mat',\n 'A_10_1672dB.mat',\n 'A_10_1673dB.mat',\n 'A_10_1674dB.mat',\n 'A_10_1675dB.mat',\n 'A_10_1676dB.mat',\n 'A_10_1677dB.mat',\n 'A_10_1678dB.mat',\n 'A_10_1679dB.mat',\n 'A_10_167dB.mat',\n 'A_10_1680dB.mat',\n 'A_10_1681dB.mat',\n 'A_10_1682dB.mat',\n 'A_10_1683dB.mat',\n 'A_10_1684dB.mat',\n 'A_10_1685dB.mat',\n 'A_10_1686dB.mat',\n 'A_10_1687dB.mat',\n 'A_10_1688dB.mat',\n 'A_10_1689dB.mat',\n 'A_10_168dB.mat',\n 'A_10_1690dB.mat',\n 'A_10_1691dB.mat',\n 'A_10_1692dB.mat',\n 'A_10_1693dB.mat',\n 'A_10_1694dB.mat',\n 'A_10_1695dB.mat',\n 'A_10_1696dB.mat',\n 'A_10_1697dB.mat',\n 'A_10_1698dB.mat',\n 'A_10_1699dB.mat',\n 'A_10_169dB.mat',\n 'A_10_16dB.mat',\n 'A_10_1700dB.mat',\n 'A_10_1701dB.mat',\n 'A_10_1702dB.mat',\n 'A_10_1703dB.mat',\n 'A_10_1704dB.mat',\n 'A_10_1705dB.mat',\n 'A_10_1706dB.mat',\n 'A_10_1707dB.mat',\n 'A_10_1708dB.mat',\n 'A_10_1709dB.mat',\n 'A_10_170dB.mat',\n 'A_10_1710dB.mat',\n 'A_10_1711dB.mat',\n 'A_10_1712dB.mat',\n 'A_10_1713dB.mat',\n 'A_10_1714dB.mat',\n 'A_10_1715dB.mat',\n 'A_10_1716dB.mat',\n 'A_10_1717dB.mat',\n 'A_10_1718dB.mat',\n 'A_10_1719dB.mat',\n 'A_10_171dB.mat',\n 'A_10_1720dB.mat',\n 'A_10_1721dB.mat',\n 'A_10_1722dB.mat',\n 'A_10_1723dB.mat',\n 'A_10_1724dB.mat',\n 'A_10_1725dB.mat',\n 'A_10_1726dB.mat',\n 'A_10_1727dB.mat',\n 'A_10_1728dB.mat',\n 'A_10_1729dB.mat',\n 'A_10_172dB.mat',\n 'A_10_1730dB.mat',\n 'A_10_1731dB.mat',\n 'A_10_1732dB.mat',\n 'A_10_1733dB.mat',\n 'A_10_1734dB.mat',\n 'A_10_1735dB.mat',\n 'A_10_1736dB.mat',\n 'A_10_1737dB.mat',\n 'A_10_1738dB.mat',\n 'A_10_1739dB.mat',\n 'A_10_173dB.mat',\n 'A_10_1740dB.mat',\n 'A_10_1741dB.mat',\n 'A_10_1742dB.mat',\n 'A_10_1743dB.mat',\n 'A_10_1744dB.mat',\n 'A_10_1745dB.mat',\n 'A_10_1746dB.mat',\n 'A_10_1747dB.mat',\n 'A_10_1748dB.mat',\n 'A_10_1749dB.mat',\n 'A_10_174dB.mat',\n 'A_10_1750dB.mat',\n 'A_10_1751dB.mat',\n 'A_10_1752dB.mat',\n 'A_10_1753dB.mat',\n 'A_10_1754dB.mat',\n 'A_10_1755dB.mat',\n 'A_10_1756dB.mat',\n 'A_10_1757dB.mat',\n 'A_10_1758dB.mat',\n 'A_10_1759dB.mat',\n 'A_10_175dB.mat',\n 'A_10_1760dB.mat',\n 'A_10_1761dB.mat',\n 'A_10_1762dB.mat',\n 'A_10_1763dB.mat',\n 'A_10_1764dB.mat',\n 'A_10_1765dB.mat',\n 'A_10_1766dB.mat',\n 'A_10_1767dB.mat',\n 'A_10_1768dB.mat',\n 'A_10_1769dB.mat',\n 'A_10_176dB.mat',\n 'A_10_1770dB.mat',\n 'A_10_1771dB.mat',\n 'A_10_1772dB.mat',\n 'A_10_1773dB.mat',\n 'A_10_1774dB.mat',\n 'A_10_1775dB.mat',\n 'A_10_1776dB.mat',\n 'A_10_1777dB.mat',\n 'A_10_1778dB.mat',\n 'A_10_1779dB.mat',\n 'A_10_177dB.mat',\n 'A_10_1780dB.mat',\n 'A_10_1781dB.mat',\n 'A_10_1782dB.mat',\n 'A_10_1783dB.mat',\n 'A_10_1784dB.mat',\n 'A_10_1785dB.mat',\n 'A_10_1786dB.mat',\n 'A_10_1787dB.mat',\n 'A_10_1788dB.mat',\n 'A_10_1789dB.mat',\n 'A_10_178dB.mat',\n 'A_10_1790dB.mat',\n 'A_10_1791dB.mat',\n 'A_10_1792dB.mat',\n 'A_10_1793dB.mat',\n 'A_10_1794dB.mat',\n 'A_10_1795dB.mat',\n 'A_10_1796dB.mat',\n 'A_10_1797dB.mat',\n 'A_10_1798dB.mat',\n 'A_10_1799dB.mat',\n 'A_10_179dB.mat',\n 'A_10_17dB.mat',\n 'A_10_1800dB.mat',\n 'A_10_1801dB.mat',\n 'A_10_1802dB.mat',\n 'A_10_1803dB.mat',\n 'A_10_1804dB.mat',\n 'A_10_1805dB.mat',\n 'A_10_1806dB.mat',\n 'A_10_1807dB.mat',\n 'A_10_1808dB.mat',\n 'A_10_1809dB.mat',\n 'A_10_180dB.mat',\n 'A_10_1810dB.mat',\n 'A_10_1811dB.mat',\n 'A_10_1812dB.mat',\n 'A_10_1813dB.mat',\n 'A_10_1814dB.mat',\n 'A_10_1815dB.mat',\n 'A_10_1816dB.mat',\n 'A_10_1817dB.mat',\n 'A_10_1818dB.mat',\n 'A_10_1819dB.mat',\n 'A_10_181dB.mat',\n 'A_10_1820dB.mat',\n 'A_10_1821dB.mat',\n 'A_10_1822dB.mat',\n 'A_10_1823dB.mat',\n 'A_10_1824dB.mat',\n 'A_10_1825dB.mat',\n 'A_10_1826dB.mat',\n 'A_10_1827dB.mat',\n 'A_10_1828dB.mat',\n 'A_10_1829dB.mat',\n 'A_10_182dB.mat',\n 'A_10_1830dB.mat',\n 'A_10_1831dB.mat',\n 'A_10_1832dB.mat',\n 'A_10_1833dB.mat',\n 'A_10_1834dB.mat',\n 'A_10_1835dB.mat',\n 'A_10_1836dB.mat',\n 'A_10_1837dB.mat',\n 'A_10_1838dB.mat',\n 'A_10_1839dB.mat',\n 'A_10_183dB.mat',\n 'A_10_1840dB.mat',\n 'A_10_1841dB.mat',\n 'A_10_1842dB.mat',\n 'A_10_1843dB.mat',\n 'A_10_1844dB.mat',\n 'A_10_1845dB.mat',\n 'A_10_1846dB.mat',\n 'A_10_1847dB.mat',\n 'A_10_1848dB.mat',\n 'A_10_1849dB.mat',\n 'A_10_184dB.mat',\n 'A_10_1850dB.mat',\n 'A_10_1851dB.mat',\n 'A_10_1852dB.mat',\n 'A_10_1853dB.mat',\n 'A_10_1854dB.mat',\n 'A_10_1855dB.mat',\n 'A_10_1856dB.mat',\n 'A_10_1857dB.mat',\n 'A_10_1858dB.mat',\n 'A_10_1859dB.mat',\n 'A_10_185dB.mat',\n 'A_10_1860dB.mat',\n 'A_10_1861dB.mat',\n 'A_10_1862dB.mat',\n 'A_10_1863dB.mat',\n 'A_10_1864dB.mat',\n 'A_10_1865dB.mat',\n 'A_10_1866dB.mat',\n 'A_10_1867dB.mat',\n 'A_10_1868dB.mat',\n 'A_10_1869dB.mat',\n 'A_10_186dB.mat',\n 'A_10_1870dB.mat',\n 'A_10_1871dB.mat',\n 'A_10_1872dB.mat',\n 'A_10_1873dB.mat',\n 'A_10_1874dB.mat',\n 'A_10_1875dB.mat',\n 'A_10_1876dB.mat',\n 'A_10_1877dB.mat',\n 'A_10_1878dB.mat',\n 'A_10_1879dB.mat',\n 'A_10_187dB.mat',\n 'A_10_1880dB.mat',\n 'A_10_1881dB.mat',\n 'A_10_1882dB.mat',\n 'A_10_1883dB.mat',\n 'A_10_1884dB.mat',\n 'A_10_1885dB.mat',\n 'A_10_1886dB.mat',\n 'A_10_1887dB.mat',\n 'A_10_1888dB.mat',\n 'A_10_1889dB.mat',\n 'A_10_188dB.mat',\n 'A_10_1890dB.mat',\n 'A_10_1891dB.mat',\n 'A_10_1892dB.mat',\n 'A_10_1893dB.mat',\n 'A_10_1894dB.mat',\n 'A_10_1895dB.mat',\n 'A_10_1896dB.mat',\n 'A_10_1897dB.mat',\n 'A_10_1898dB.mat',\n 'A_10_1899dB.mat',\n 'A_10_189dB.mat',\n 'A_10_18dB.mat',\n 'A_10_1900dB.mat',\n ...]"
     },
     "execution_count": 4,
     "metadata": {},
     "output_type": "execute_result"
    }
   ],
   "source": [
    "list_name = []\n",
    "list_file_name = []\n",
    "for file in os.listdir(path):\n",
    "    file_path = os.path.join(path,file)\n",
    "    if os.path.splitext(file_path)[1] == '.mat':\n",
    "        list_name.append(file_path)\n",
    "        list_file_name.append(file)\n",
    "list_file_name"
   ],
   "metadata": {
    "collapsed": false
   }
  },
  {
   "cell_type": "code",
   "execution_count": 5,
   "outputs": [
    {
     "data": {
      "text/plain": "array([0., 0., 0., ..., 0., 0., 0.])"
     },
     "execution_count": 5,
     "metadata": {},
     "output_type": "execute_result"
    }
   ],
   "source": [
    "tempdata = np.zeros((36000,1,2000))\n",
    "tempdata[0][0][:]\n"
   ],
   "metadata": {
    "collapsed": false
   }
  },
  {
   "cell_type": "code",
   "execution_count": 6,
   "outputs": [
    {
     "data": {
      "text/plain": "array([[-0.29131177+2.82127638j, -5.23097093-6.35813967j,\n        -7.62332585+4.34886178j, ..., -8.34005032-0.75917232j,\n        -1.0488726 -1.45746123j,  0.52877814+3.11657361j]])"
     },
     "execution_count": 6,
     "metadata": {},
     "output_type": "execute_result"
    }
   ],
   "source": [
    "test = io.loadmat(list_name[1])\n",
    "test['Signal']"
   ],
   "metadata": {
    "collapsed": false
   }
  },
  {
   "cell_type": "code",
   "execution_count": 7,
   "outputs": [
    {
     "data": {
      "text/plain": "array([[-0.29131177+2.82127638j],\n       [-5.23097093-6.35813967j],\n       [-7.62332585+4.34886178j],\n       ...,\n       [-8.34005032-0.75917232j],\n       [-1.0488726 -1.45746123j],\n       [ 0.52877814+3.11657361j]])"
     },
     "execution_count": 7,
     "metadata": {},
     "output_type": "execute_result"
    }
   ],
   "source": [
    "t = np.transpose(np.array(test['Signal']))\n",
    "t"
   ],
   "metadata": {
    "collapsed": false
   }
  },
  {
   "cell_type": "code",
   "execution_count": 8,
   "outputs": [
    {
     "data": {
      "text/plain": "array([-0.29131177, -5.23097093, -7.62332585, ..., -8.34005032,\n       -1.0488726 ,  0.52877814])"
     },
     "execution_count": 8,
     "metadata": {},
     "output_type": "execute_result"
    }
   ],
   "source": [
    "for i in range(2000):\n",
    "    tempdata[0][0][i] = t[i].real\n",
    "tempdata[0][0][:]"
   ],
   "metadata": {
    "collapsed": false
   }
  },
  {
   "cell_type": "code",
   "execution_count": 9,
   "outputs": [],
   "source": [
    "labels = np.zeros(36000)\n",
    "\n",
    "label = {'A':0, 'B':1, 'C':2}"
   ],
   "metadata": {
    "collapsed": false
   }
  },
  {
   "cell_type": "code",
   "execution_count": 10,
   "outputs": [],
   "source": [
    "for i in range(len(list_name)):\n",
    "    data = io.loadmat(list_name[i])\n",
    "    sig = np.transpose(np.array(data['Signal']))\n",
    "    for j in range(2000):\n",
    "        tempdata[i][0][j] = sig[j].real\n",
    "    if data['label'] == 'A':\n",
    "        labels[i] = label['A']\n",
    "    elif data['label'] == 'B':\n",
    "        labels[i] = label['B']\n",
    "    else:\n",
    "        labels[i] = label['C']\n",
    "\n"
   ],
   "metadata": {
    "collapsed": false
   }
  },
  {
   "cell_type": "code",
   "execution_count": 31,
   "outputs": [
    {
     "data": {
      "text/plain": "(array([[[-1.64479073e+00, -8.41860210e+00,  5.16813985e+00, ...,\n          -4.71874062e+00, -4.42601218e+00, -6.19516338e+00]],\n \n        [[-2.91311771e-01, -5.23097093e+00, -7.62332585e+00, ...,\n          -8.34005032e+00, -1.04887260e+00,  5.28778137e-01]],\n \n        [[-1.45908927e+00,  1.42453148e-01, -2.72647492e+00, ...,\n           7.07064103e+00, -1.08563678e+00,  2.06820737e+00]],\n \n        ...,\n \n        [[-2.07395620e+00,  9.19063454e+00,  8.00258823e+00, ...,\n           3.24858439e+00,  1.23235123e+01,  3.28889491e+00]],\n \n        [[ 8.09134279e+00,  9.06438957e-01, -2.55423177e+00, ...,\n          -4.49667372e+00,  9.77432266e-03, -3.23553977e+00]],\n \n        [[-1.20835292e+01,  5.18300730e+00,  3.11724255e+00, ...,\n           4.01809502e+00,  1.43424056e+01, -1.04161037e+01]]]),\n array([1., 1., 1., ..., 3., 3., 3.]))"
     },
     "execution_count": 31,
     "metadata": {},
     "output_type": "execute_result"
    }
   ],
   "source": [
    "tempdata,labels"
   ],
   "metadata": {
    "collapsed": false
   }
  },
  {
   "cell_type": "code",
   "execution_count": 11,
   "outputs": [],
   "source": [
    "np.save(\"signal.npy\",tempdata)\n"
   ],
   "metadata": {
    "collapsed": false
   }
  },
  {
   "cell_type": "code",
   "execution_count": 12,
   "outputs": [],
   "source": [
    "np.save(\"labels.npy\",labels)"
   ],
   "metadata": {
    "collapsed": false
   }
  }
 ],
 "metadata": {
  "kernelspec": {
   "display_name": "Python 3",
   "language": "python",
   "name": "python3"
  },
  "language_info": {
   "codemirror_mode": {
    "name": "ipython",
    "version": 2
   },
   "file_extension": ".py",
   "mimetype": "text/x-python",
   "name": "python",
   "nbconvert_exporter": "python",
   "pygments_lexer": "ipython2",
   "version": "2.7.6"
  }
 },
 "nbformat": 4,
 "nbformat_minor": 0
}
