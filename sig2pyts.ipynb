{
 "cells": [
  {
   "cell_type": "code",
   "execution_count": 1,
   "id": "initial_id",
   "metadata": {
    "collapsed": true,
    "ExecuteTime": {
     "end_time": "2024-01-12T09:02:20.293457100Z",
     "start_time": "2024-01-12T09:02:20.063622300Z"
    }
   },
   "outputs": [],
   "source": [
    "import numpy as np"
   ]
  },
  {
   "cell_type": "code",
   "execution_count": 2,
   "outputs": [],
   "source": [
    "data_path = r\"C:\\Users\\jiahu\\Desktop\\new_radar\\data\\DeepLearning\\signal.npy\"\n",
    "label_path = r\"C:\\Users\\jiahu\\Desktop\\new_radar\\data\\DeepLearning\\labels.npy\""
   ],
   "metadata": {
    "collapsed": false,
    "ExecuteTime": {
     "end_time": "2024-01-12T09:02:20.300461600Z",
     "start_time": "2024-01-12T09:02:20.292515800Z"
    }
   },
   "id": "bbb3c0528eb766f8"
  },
  {
   "cell_type": "code",
   "execution_count": 3,
   "outputs": [
    {
     "ename": "FileNotFoundError",
     "evalue": "[Errno 2] No such file or directory: 'C:\\\\Users\\\\jiahu\\\\Desktop\\\\new_radar\\\\data\\\\DeepLearning\\\\signal.npy'",
     "output_type": "error",
     "traceback": [
      "\u001B[1;31m---------------------------------------------------------------------------\u001B[0m",
      "\u001B[1;31mFileNotFoundError\u001B[0m                         Traceback (most recent call last)",
      "Cell \u001B[1;32mIn[3], line 1\u001B[0m\n\u001B[1;32m----> 1\u001B[0m signals \u001B[38;5;241m=\u001B[39m \u001B[43mnp\u001B[49m\u001B[38;5;241;43m.\u001B[39;49m\u001B[43mload\u001B[49m\u001B[43m(\u001B[49m\u001B[43mdata_path\u001B[49m\u001B[43m)\u001B[49m\n\u001B[0;32m      2\u001B[0m labels \u001B[38;5;241m=\u001B[39m np\u001B[38;5;241m.\u001B[39mload(label_path)\n",
      "File \u001B[1;32m~\\.conda\\envs\\huang\\Lib\\site-packages\\numpy\\lib\\npyio.py:427\u001B[0m, in \u001B[0;36mload\u001B[1;34m(file, mmap_mode, allow_pickle, fix_imports, encoding, max_header_size)\u001B[0m\n\u001B[0;32m    425\u001B[0m     own_fid \u001B[38;5;241m=\u001B[39m \u001B[38;5;28;01mFalse\u001B[39;00m\n\u001B[0;32m    426\u001B[0m \u001B[38;5;28;01melse\u001B[39;00m:\n\u001B[1;32m--> 427\u001B[0m     fid \u001B[38;5;241m=\u001B[39m stack\u001B[38;5;241m.\u001B[39menter_context(\u001B[38;5;28;43mopen\u001B[39;49m\u001B[43m(\u001B[49m\u001B[43mos_fspath\u001B[49m\u001B[43m(\u001B[49m\u001B[43mfile\u001B[49m\u001B[43m)\u001B[49m\u001B[43m,\u001B[49m\u001B[43m \u001B[49m\u001B[38;5;124;43m\"\u001B[39;49m\u001B[38;5;124;43mrb\u001B[39;49m\u001B[38;5;124;43m\"\u001B[39;49m\u001B[43m)\u001B[49m)\n\u001B[0;32m    428\u001B[0m     own_fid \u001B[38;5;241m=\u001B[39m \u001B[38;5;28;01mTrue\u001B[39;00m\n\u001B[0;32m    430\u001B[0m \u001B[38;5;66;03m# Code to distinguish from NumPy binary files and pickles.\u001B[39;00m\n",
      "\u001B[1;31mFileNotFoundError\u001B[0m: [Errno 2] No such file or directory: 'C:\\\\Users\\\\jiahu\\\\Desktop\\\\new_radar\\\\data\\\\DeepLearning\\\\signal.npy'"
     ]
    }
   ],
   "source": [
    "signals = np.load(data_path)\n",
    "labels = np.load(label_path)"
   ],
   "metadata": {
    "collapsed": false,
    "ExecuteTime": {
     "end_time": "2024-01-12T09:02:20.676444400Z",
     "start_time": "2024-01-12T09:02:20.295461700Z"
    }
   },
   "id": "ad5ed8c41ad532ab"
  },
  {
   "cell_type": "code",
   "execution_count": null,
   "outputs": [],
   "source": [
    "print(signals[0].shape)\n",
    "    "
   ],
   "metadata": {
    "collapsed": false,
    "ExecuteTime": {
     "end_time": "2024-01-12T09:02:20.682077800Z",
     "start_time": "2024-01-12T09:02:20.679444900Z"
    }
   },
   "id": "d7bd9098af3adcbe"
  },
  {
   "cell_type": "code",
   "execution_count": null,
   "outputs": [],
   "source": [
    "signal_length = signals.shape[0]\n",
    "labels_length = labels.shape\n",
    "print(labels_length)\n",
    "print(signal_length)"
   ],
   "metadata": {
    "collapsed": false,
    "ExecuteTime": {
     "start_time": "2024-01-12T09:02:20.680445Z"
    }
   },
   "id": "47ca23672dc1cd8a"
  },
  {
   "cell_type": "code",
   "execution_count": null,
   "outputs": [],
   "source": [
    "print(labels[35989])"
   ],
   "metadata": {
    "collapsed": false,
    "ExecuteTime": {
     "start_time": "2024-01-12T09:02:20.680445Z"
    }
   },
   "id": "30d20fd25d434e7c"
  },
  {
   "cell_type": "code",
   "execution_count": null,
   "outputs": [],
   "source": [
    "labels_= {'A':1, 'B':2, 'C':3}\n"
   ],
   "metadata": {
    "collapsed": false,
    "ExecuteTime": {
     "start_time": "2024-01-12T09:02:20.682077800Z"
    }
   },
   "id": "5924fb3032cc6bdf"
  },
  {
   "cell_type": "code",
   "execution_count": null,
   "outputs": [],
   "source": [
    "import matplotlib.pyplot as plt\n",
    "from pyts.image import GramianAngularField\n"
   ],
   "metadata": {
    "collapsed": false,
    "ExecuteTime": {
     "start_time": "2024-01-12T09:02:20.683542300Z"
    }
   },
   "id": "d2a52ae554940e3a"
  },
  {
   "cell_type": "code",
   "execution_count": null,
   "outputs": [],
   "source": [
    "\n",
    "def generate_gasf_gadf_images(signal, image_size=32):\n",
    "    # Rescale the signal to [0, 1]\n",
    "    signal_min = np.min(signal)\n",
    "    signal_max = np.max(signal)\n",
    "    scaled_signal = (signal - signal_min) / (signal_max - signal_min)\n",
    "\n",
    "    # Reshape the signal to a 2D array\n",
    "    reshaped_signal = scaled_signal.reshape(1, -1)\n",
    "\n",
    "    # Generate Gramian Angular Summation Field (GASF)\n",
    "    gasf = GramianAngularField(image_size=image_size, method='summation')\n",
    "    gasf_image = gasf.fit_transform(reshaped_signal)\n",
    "\n",
    "    # Generate Gramian Angular Difference Field (GADF)\n",
    "    gadf = GramianAngularField(image_size=image_size, method='difference')\n",
    "    gadf_image = gadf.fit_transform(reshaped_signal)\n",
    "\n",
    "    return gasf_image[0], gadf_image[0]"
   ],
   "metadata": {
    "collapsed": false,
    "ExecuteTime": {
     "start_time": "2024-01-12T09:02:20.684546700Z"
    }
   },
   "id": "6e9d1fd31b0ae07f"
  },
  {
   "cell_type": "code",
   "execution_count": null,
   "outputs": [],
   "source": [
    "gasf_image, gadf_image = generate_gasf_gadf_images(signals[-1],image_size=1024)\n",
    "t = np.linspace(1,1,2000)\n",
    "t = t.reshape(1,2000)\n",
    "# Plot the original signal, GASF, and GADF\n",
    "plt.figure(figsize=(12, 4))\n",
    "\n",
    "plt.subplot(1, 3, 1)\n",
    "plt.plot(t, signals[-1])\n",
    "plt.title('Original Signal')\n",
    "\n",
    "plt.subplot(1, 3, 2)\n",
    "plt.imshow(gasf_image, cmap='viridis', origin='lower')\n",
    "plt.title('GASF')\n",
    "\n",
    "plt.subplot(1, 3, 3)\n",
    "plt.imshow(gadf_image, cmap='viridis', origin='lower')\n",
    "plt.title('GADF')\n",
    "\n",
    "plt.show()\n",
    "\n"
   ],
   "metadata": {
    "collapsed": false,
    "ExecuteTime": {
     "start_time": "2024-01-12T09:02:20.685546400Z"
    }
   },
   "id": "9f909cb27b71b253"
  },
  {
   "cell_type": "code",
   "execution_count": null,
   "outputs": [],
   "source": [
    "print(t.shape,signals[0].shape)"
   ],
   "metadata": {
    "collapsed": false,
    "ExecuteTime": {
     "start_time": "2024-01-12T09:02:20.686546700Z"
    }
   },
   "id": "3e478b2694eaaccd"
  },
  {
   "cell_type": "code",
   "execution_count": null,
   "outputs": [],
   "source": [
    "gasf_image, gadf_image = generate_gasf_gadf_images(signals[12256],image_size=1024)\n",
    "t = np.linspace(1,1,2000)\n",
    "t = t.reshape(1,2000)\n",
    "# Plot the original signal, GASF, and GADF\n",
    "plt.figure(figsize=(12, 4))\n",
    "\n",
    "plt.subplot(1, 3, 1)\n",
    "plt.plot(t, signals[12256])\n",
    "plt.title('Original Signal')\n",
    "\n",
    "plt.subplot(1, 3, 2)\n",
    "plt.imshow(gasf_image, cmap='viridis', origin='lower')\n",
    "plt.title('GASF')\n",
    "\n",
    "plt.subplot(1, 3, 3)\n",
    "plt.imshow(gadf_image, cmap='viridis', origin='lower')\n",
    "plt.title('GADF')\n",
    "\n",
    "plt.show()"
   ],
   "metadata": {
    "collapsed": false,
    "ExecuteTime": {
     "start_time": "2024-01-12T09:02:20.687623600Z"
    }
   },
   "id": "9a2ebae20777670f"
  },
  {
   "cell_type": "code",
   "execution_count": null,
   "outputs": [],
   "source": [
    "gasf_image, gadf_image = generate_gasf_gadf_images(signals[1],image_size=1024)\n",
    "t = np.linspace(1,1,2000)\n",
    "t = t.reshape(1,2000)\n",
    "# Plot the original signal, GASF, and GADF\n",
    "plt.figure(figsize=(12, 4))\n",
    "\n",
    "plt.subplot(1, 3, 1)\n",
    "plt.plot(t, signals[1])\n",
    "plt.title('Original Signal')\n",
    "\n",
    "plt.subplot(1, 3, 2)\n",
    "plt.imshow(gasf_image, cmap='viridis', origin='lower')\n",
    "plt.title('GASF')\n",
    "\n",
    "plt.subplot(1, 3, 3)\n",
    "plt.imshow(gadf_image, cmap='viridis', origin='lower')\n",
    "plt.title('GADF')\n",
    "\n",
    "plt.show()"
   ],
   "metadata": {
    "collapsed": false,
    "ExecuteTime": {
     "start_time": "2024-01-12T09:02:20.688545300Z"
    }
   },
   "id": "bb9be959c3bb63d6"
  },
  {
   "cell_type": "markdown",
   "source": [
    "### 一些小灵感\n",
    "在对比实验中，要确定图片的最佳image_size是多少，这个可以水一下啊\n",
    "可以测试对比512\\*512，640\\*640，1024\\*1024，2048\\*2048"
   ],
   "metadata": {
    "collapsed": false
   },
   "id": "fc5380c6e1e1abcb"
  },
  {
   "cell_type": "code",
   "execution_count": null,
   "outputs": [],
   "source": [],
   "metadata": {
    "collapsed": false,
    "ExecuteTime": {
     "end_time": "2024-01-12T09:02:20.689546700Z",
     "start_time": "2024-01-12T09:02:20.688545300Z"
    }
   },
   "id": "75ca588699caf727"
  }
 ],
 "metadata": {
  "kernelspec": {
   "display_name": "Python 3",
   "language": "python",
   "name": "python3"
  },
  "language_info": {
   "codemirror_mode": {
    "name": "ipython",
    "version": 2
   },
   "file_extension": ".py",
   "mimetype": "text/x-python",
   "name": "python",
   "nbconvert_exporter": "python",
   "pygments_lexer": "ipython2",
   "version": "2.7.6"
  }
 },
 "nbformat": 4,
 "nbformat_minor": 5
}
